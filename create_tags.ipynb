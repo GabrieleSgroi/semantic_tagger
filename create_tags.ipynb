{
  "cells": [
    {
      "cell_type": "markdown",
      "source": [
        "# Create tags from squad_v2\n"
      ],
      "metadata": {
        "id": "Y6goYO4ufUYJ"
      }
    },
    {
      "cell_type": "code",
      "execution_count": null,
      "metadata": {
        "id": "QRB4MU4OyzgU"
      },
      "outputs": [],
      "source": [
        "!pip install git+https://github.com/GabrieleSgroi/semantic_tagger.git"
      ]
    },
    {
      "cell_type": "code",
      "execution_count": null,
      "metadata": {
        "id": "kdawSr0bprAM"
      },
      "outputs": [],
      "source": [
        "import os\n",
        "import pandas as pd\n",
        "\n",
        "def get_checked_split(dataset, saved_path, start, stop, origin='context'):\n",
        "    dfs = []\n",
        "    for csv in os.listdir(saved_path):\n",
        "        if not csv.endswith('.csv'):\n",
        "            continue\n",
        "        dfs.append(pd.read_csv(os.path.join(saved_path, csv)))\n",
        "    dfs = pd.concat(dfs)\n",
        "    new = set(list(set(dataset[origin]))[start:stop])\n",
        "    old = set(dfs['original'])\n",
        "    intersection = new.intersection(old)\n",
        "    if len(intersection)>0:\n",
        "        print(f'Warning: {len(intersection)} in common removed')\n",
        "    return list(new-old)\n"
      ]
    },
    {
      "cell_type": "code",
      "execution_count": null,
      "metadata": {
        "id": "J_oiS0rpy32K"
      },
      "outputs": [],
      "source": [
        "from semtag.data import DataGenerator\n",
        "from datasets import Dataset, load_dataset\n",
        "\n",
        "start = 0\n",
        "stop= 10000\n",
        "\n",
        "generator = DataGenerator()\n",
        "dataset = load_dataset(\"squad_v2\", split=\"train\")\n",
        "origin='context'\n",
        "\n",
        "\n",
        "texts = get_checked_split(dataset=dataset, saved_path='/content/drive/MyDrive/tags', start=start, stop=stop, origin=origin)"
      ]
    },
    {
      "cell_type": "markdown",
      "source": [],
      "metadata": {
        "id": "8jxF7U8NfNfy"
      }
    },
    {
      "cell_type": "code",
      "execution_count": null,
      "metadata": {
        "id": "Ihj8Mkw1sOiO"
      },
      "outputs": [],
      "source": [
        "print(dataset)"
      ]
    },
    {
      "cell_type": "code",
      "execution_count": null,
      "metadata": {
        "id": "3c0TQUnUdRXu"
      },
      "outputs": [],
      "source": [
        "data = generator.generate_data(texts)"
      ]
    },
    {
      "cell_type": "code",
      "source": [
        "data"
      ],
      "metadata": {
        "id": "-q1MWpbiGD2f"
      },
      "execution_count": null,
      "outputs": []
    }
  ],
  "metadata": {
    "accelerator": "GPU",
    "colab": {
      "provenance": []
    },
    "kernelspec": {
      "display_name": "Python 3",
      "name": "python3"
    },
    "language_info": {
      "name": "python"
    }
  },
  "nbformat": 4,
  "nbformat_minor": 0
}